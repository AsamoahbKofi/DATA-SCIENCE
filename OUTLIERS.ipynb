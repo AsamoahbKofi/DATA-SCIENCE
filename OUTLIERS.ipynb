{
 "cells": [
  {
   "cell_type": "code",
   "execution_count": 3,
   "id": "3eaf3d10-3605-490e-ab13-b7741fc50155",
   "metadata": {},
   "outputs": [
    {
     "name": "stdout",
     "output_type": "stream",
     "text": [
      "Data with outliers:\n",
      "[-1.34149673 -0.42431762 -0.07785476  0.40746184  0.61037938  2.06449286\n",
      "  0.03280875  0.23958276 -0.32566947 -0.65855297 -1.98079647  0.68981816\n",
      " -0.03928282 -1.270485   17.81702373 -1.5069984  -0.26393735  0.28044171\n",
      " -0.15501009  0.12898291]\n"
     ]
    }
   ],
   "source": [
    "import numpy as np\n",
    "\n",
    "# Generating some random data with outliers\n",
    "np.random.seed(0)\n",
    "data = np.random.normal(loc=0, scale=1, size=1000)\n",
    "outliers = np.random.normal(loc=10, scale=5, size=50)\n",
    "data_with_outliers = np.concatenate((data, outliers))\n",
    "\n",
    "# Shuffle the data\n",
    "np.random.shuffle(data_with_outliers)\n",
    "\n",
    "# Print the first few elements of the data\n",
    "print(\"Data with outliers:\")\n",
    "print(data_with_outliers[:20])\n"
   ]
  },
  {
   "cell_type": "code",
   "execution_count": 19,
   "id": "a88b25ae-a45e-4b33-ad01-4109fb72f364",
   "metadata": {},
   "outputs": [
    {
     "data": {
      "text/plain": [
       "array([[-1.34149673, -0.42431762, -0.07785476, ..., 11.07482795,\n",
       "         0.84436298,  0.86351966]])"
      ]
     },
     "execution_count": 19,
     "metadata": {},
     "output_type": "execute_result"
    }
   ],
   "source": []
  },
  {
   "cell_type": "code",
   "execution_count": 23,
   "id": "62b1f973-7a9c-4f82-9329-4e1df20dcac6",
   "metadata": {},
   "outputs": [
    {
     "data": {
      "text/plain": [
       "array([ 1,  1,  1, ..., -1,  1,  1])"
      ]
     },
     "execution_count": 23,
     "metadata": {},
     "output_type": "execute_result"
    }
   ],
   "source": [
    "from sklearn.covariance import EllipticEnvelope\n",
    "El=EllipticEnvelope(contamination=0.1)\n",
    "El.fit(data_with_outliers.reshape(-1,1))\n",
    "El.predict(data_with_outliers.reshape(-1,1))# sthe negative one shows that there exist an outlier(s)"
   ]
  },
  {
   "cell_type": "raw",
   "id": "dfb8e47d-93fb-4950-84d7-4a107012ed8a",
   "metadata": {},
   "source": [
    "METHOD ONE"
   ]
  },
  {
   "cell_type": "code",
   "execution_count": 5,
   "id": "ff3099b2-fda7-45e2-8b75-ce33df524d70",
   "metadata": {},
   "outputs": [
    {
     "data": {
      "text/plain": [
       "array([-1.34149673, -0.42431762, -0.07785476, ..., -0.6522936 ,\n",
       "        0.84436298,  0.86351966])"
      ]
     },
     "execution_count": 5,
     "metadata": {},
     "output_type": "execute_result"
    }
   ],
   "source": [
    "import numpy as np\n",
    "\n",
    "def remove_outliers_zscore(data, threshold=3):\n",
    "    z_scores = np.abs((data - data.mean()) / data.std())\n",
    "    return data[z_scores < threshold]\n",
    "\n",
    "remove_outliers_zscore(data_with_outliers)"
   ]
  },
  {
   "cell_type": "markdown",
   "id": "116c5821-8524-4491-b189-7c7877e6221b",
   "metadata": {},
   "source": [
    "METHOD TWO"
   ]
  },
  {
   "cell_type": "code",
   "execution_count": 6,
   "id": "74bc9525-ab41-4ac4-a872-cf5d64a775b7",
   "metadata": {},
   "outputs": [
    {
     "data": {
      "text/plain": [
       "array([-1.34149673, -0.42431762, -0.07785476, ..., -0.6522936 ,\n",
       "        0.84436298,  0.86351966])"
      ]
     },
     "execution_count": 6,
     "metadata": {},
     "output_type": "execute_result"
    }
   ],
   "source": [
    "def remove_outliers_iqr(data):\n",
    "    Q1 = np.percentile(data, 25)\n",
    "    Q3 = np.percentile(data, 75)\n",
    "    IQR = Q3 - Q1\n",
    "    lower_bound = Q1 - 1.5 * IQR\n",
    "    upper_bound = Q3 + 1.5 * IQR\n",
    "    return data[(data >= lower_bound) & (data <= upper_bound)]\n",
    "\n",
    "remove_outliers_iqr(data_with_outliers)"
   ]
  },
  {
   "cell_type": "markdown",
   "id": "7f7db650-9382-4c4e-b9c2-d2ab18d531ed",
   "metadata": {},
   "source": [
    "METHOD THREE"
   ]
  },
  {
   "cell_type": "code",
   "execution_count": 7,
   "id": "61a1c9f3-5cb6-4c46-bf67-6ddf8518cea8",
   "metadata": {},
   "outputs": [
    {
     "data": {
      "text/plain": [
       "array([-1.34149673, -0.42431762, -0.07785476, ..., -0.6522936 ,\n",
       "        0.84436298,  0.86351966])"
      ]
     },
     "execution_count": 7,
     "metadata": {},
     "output_type": "execute_result"
    }
   ],
   "source": [
    "def remove_outliers_modified_zscore(data, threshold=3.5):\n",
    "    median = np.median(data)\n",
    "    median_absolute_deviation = np.median(np.abs(data - median))\n",
    "    modified_z_scores = 0.6745 * (data - median) / median_absolute_deviation\n",
    "    return data[modified_z_scores < threshold]\n",
    "remove_outliers_modified_zscore(data_with_outliers)"
   ]
  },
  {
   "cell_type": "markdown",
   "id": "284cf4bc-e3a8-4bfe-88ae-dc89fd9ac1d5",
   "metadata": {},
   "source": [
    "METHOD FOUR"
   ]
  },
  {
   "cell_type": "code",
   "execution_count": 8,
   "id": "b3fc08ab-e3f7-478b-b021-f88a4ebcb9aa",
   "metadata": {},
   "outputs": [
    {
     "data": {
      "text/plain": [
       "<Axes: >"
      ]
     },
     "execution_count": 8,
     "metadata": {},
     "output_type": "execute_result"
    },
    {
     "data": {
      "image/png": "[encoded data removed]",
      "text/plain": [
       "<Figure size 640x480 with 1 Axes>"
      ]
     },
     "metadata": {},
     "output_type": "display_data"
    }
   ],
   "source": [
    "import seaborn as sns\n",
    "sns.boxplot(data_with_outliers)"
   ]
  }
 ],
 "metadata": {
  "kernelspec": {
   "display_name": "Python 3 (ipykernel)",
   "language": "python",
   "name": "python3"
  },
  "language_info": {
   "codemirror_mode": {
    "name": "ipython",
    "version": 3
   },
   "file_extension": ".py",
   "mimetype": "text/x-python",
   "name": "python",
   "nbconvert_exporter": "python",
   "pygments_lexer": "ipython3",
   "version": "3.11.7"
  }
 },
 "nbformat": 4,
 "nbformat_minor": 5
}
